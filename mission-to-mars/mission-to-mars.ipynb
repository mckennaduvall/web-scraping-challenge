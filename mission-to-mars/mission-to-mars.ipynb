{
 "cells": [
  {
   "cell_type": "code",
   "execution_count": 1,
   "metadata": {},
   "outputs": [],
   "source": [
    "#dependencies\n",
    "import os\n",
    "import requests\n",
    "import pandas as pd\n",
    "from bs4 import BeautifulSoup as bs\n",
    "from webdriver_manager.chrome import ChromeDriverManager\n",
    "from splinter import Browser"
   ]
  },
  {
   "cell_type": "code",
   "execution_count": 2,
   "metadata": {},
   "outputs": [
    {
     "name": "stderr",
     "output_type": "stream",
     "text": [
      "\n",
      "\n",
      "====== WebDriver manager ======\n",
      "Current google-chrome version is 91.0.4472\n",
      "Get LATEST driver version for 91.0.4472\n",
      "Driver [/Users/mckennaduvall/.wdm/drivers/chromedriver/mac64/91.0.4472.101/chromedriver] found in cache\n"
     ]
    }
   ],
   "source": [
    "# Setup splinter\n",
    "executable_path = {'executable_path': ChromeDriverManager().install()}\n",
    "browser = Browser('chrome', **executable_path, headless=False)"
   ]
  },
  {
   "cell_type": "markdown",
   "metadata": {},
   "source": [
    "### NASA Mars News"
   ]
  },
  {
   "cell_type": "code",
   "execution_count": 44,
   "metadata": {},
   "outputs": [],
   "source": [
    "#url to be scraped \n",
    "url = \"https://redplanetscience.com/\"\n",
    "browser.visit(url)\n",
    "\n",
    "html = browser.html\n",
    "soup = bs(html, \"html.parser\")"
   ]
  },
  {
   "cell_type": "code",
   "execution_count": 45,
   "metadata": {},
   "outputs": [
    {
     "ename": "IndexError",
     "evalue": "list index out of range",
     "output_type": "error",
     "traceback": [
      "\u001b[0;31m---------------------------------------------------------------------------\u001b[0m",
      "\u001b[0;31mIndexError\u001b[0m                                Traceback (most recent call last)",
      "\u001b[0;32m<ipython-input-45-3f18da27067e>\u001b[0m in \u001b[0;36m<module>\u001b[0;34m\u001b[0m\n\u001b[1;32m      1\u001b[0m \u001b[0;31m#print the news title of the latest news article\u001b[0m\u001b[0;34m\u001b[0m\u001b[0;34m\u001b[0m\u001b[0;34m\u001b[0m\u001b[0m\n\u001b[0;32m----> 2\u001b[0;31m \u001b[0mnews_title\u001b[0m \u001b[0;34m=\u001b[0m \u001b[0msoup\u001b[0m\u001b[0;34m.\u001b[0m\u001b[0mfind_all\u001b[0m\u001b[0;34m(\u001b[0m\u001b[0;34m\"div\"\u001b[0m\u001b[0;34m,\u001b[0m \u001b[0mclass_\u001b[0m\u001b[0;34m=\u001b[0m\u001b[0;34m\"content_title\"\u001b[0m\u001b[0;34m)\u001b[0m\u001b[0;34m[\u001b[0m\u001b[0;36m0\u001b[0m\u001b[0;34m]\u001b[0m\u001b[0;34m.\u001b[0m\u001b[0mtext\u001b[0m\u001b[0;34m\u001b[0m\u001b[0;34m\u001b[0m\u001b[0m\n\u001b[0m\u001b[1;32m      3\u001b[0m \u001b[0mnews_title\u001b[0m\u001b[0;34m\u001b[0m\u001b[0;34m\u001b[0m\u001b[0m\n",
      "\u001b[0;31mIndexError\u001b[0m: list index out of range"
     ]
    }
   ],
   "source": [
    "#print the news title of the latest news article \n",
    "news_title = soup.find_all(\"div\", class_=\"content_title\")[0].text\n",
    "news_title"
   ]
  },
  {
   "cell_type": "code",
   "execution_count": null,
   "metadata": {},
   "outputs": [],
   "source": [
    "#print the paragraph of the latest news article \n",
    "news_p = soup.find_all(\"div\", class_=\"article_teaser_body\")[0].text\n",
    "news_p"
   ]
  },
  {
   "cell_type": "markdown",
   "metadata": {},
   "source": [
    "## JPL Mars Space Images"
   ]
  },
  {
   "cell_type": "code",
   "execution_count": null,
   "metadata": {},
   "outputs": [],
   "source": [
    "url = \"https://spaceimages-mars.com/\"\n",
    "image_url = \"https://spaceimages-mars.com/image/mars/Icaria%20Fossae7.jpg\"\n",
    "browser.visit(image_url)"
   ]
  },
  {
   "cell_type": "code",
   "execution_count": null,
   "metadata": {},
   "outputs": [],
   "source": [
    "featured_image_url = url + image_url\n",
    "featured_image_url"
   ]
  },
  {
   "cell_type": "markdown",
   "metadata": {},
   "source": [
    "## Mars Facts"
   ]
  },
  {
   "cell_type": "code",
   "execution_count": null,
   "metadata": {},
   "outputs": [],
   "source": [
    "#url to be scraped \n",
    "url = \"https://galaxyfacts-mars.com/\"\n",
    "browser.visit(url)"
   ]
  },
  {
   "cell_type": "code",
   "execution_count": null,
   "metadata": {},
   "outputs": [],
   "source": [
    "#use pandas to convert data table to html string\n",
    "tables = pd.read_html(url)\n",
    "tables"
   ]
  },
  {
   "cell_type": "code",
   "execution_count": null,
   "metadata": {},
   "outputs": [],
   "source": [
    "mars_facts = tables[0]\n",
    "mars_facts = mars_facts[[0, 1]]\n",
    "mars_facts = mars_facts.rename(columns={0:\"\", 1:\"Mars Data\"})\n",
    "mars_facts"
   ]
  },
  {
   "cell_type": "markdown",
   "metadata": {},
   "source": [
    "## Mars Hemispheres"
   ]
  },
  {
   "cell_type": "code",
   "execution_count": 3,
   "metadata": {},
   "outputs": [],
   "source": [
    "#create empty list to add dictionary \n",
    "hemisphere_image_urls = []"
   ]
  },
  {
   "cell_type": "code",
   "execution_count": 4,
   "metadata": {},
   "outputs": [],
   "source": [
    "url = \"https://marshemispheres.com/\"\n",
    "browser.visit(url)"
   ]
  },
  {
   "cell_type": "code",
   "execution_count": 5,
   "metadata": {},
   "outputs": [],
   "source": [
    "response = requests.get(url)"
   ]
  },
  {
   "cell_type": "code",
   "execution_count": 6,
   "metadata": {},
   "outputs": [],
   "source": [
    "soup = bs(response.text, \"html.parser\")"
   ]
  },
  {
   "cell_type": "code",
   "execution_count": 7,
   "metadata": {},
   "outputs": [
    {
     "name": "stdout",
     "output_type": "stream",
     "text": [
      "<!DOCTYPE html>\n",
      "<html lang=\"en\">\n",
      " <head>\n",
      "  <meta content=\"text/html; charset=utf-8\" http-equiv=\"Content-Type\"/>\n",
      "  <link href=\"css/jquery-ui.css\" rel=\"stylesheet\" type=\"text/css\"/>\n",
      "  <title>\n",
      "   Astropedia Search Results | GUSS Astrogeology Science Center\n",
      "  </title>\n",
      "  <meta content=\"GUSS Astrogeology Science Center Astropedia search results.\" name=\"description\"/>\n",
      "  <meta content=\"GUSS,Astrogeology Science Center,Cartography,Geology,Space,Geological Survey,Mapping\" name=\"keywords\"/>\n",
      "  <meta content=\"IE=edge\" http-equiv=\"X-UA-Compatible\"/>\n",
      "  <meta content=\"width=device-width, initial-scale=1, maximum-scale=1\" name=\"viewport\"/>\n",
      "  <link href=\"css/main.css\" media=\"screen\" rel=\"stylesheet\"/>\n",
      "  <link href=\"css/print.css\" media=\"print\" rel=\"stylesheet\"/>\n",
      "  <link href=\"#\" rel=\"icon\" type=\"image/x-ico\"/>\n",
      " </head>\n",
      " <body id=\"results\">\n",
      "  <header>\n",
      "   <a href=\"#\" style=\"float:right;margin-top:10px;\" target=\"_blank\">\n",
      "    <img alt=\"USGS: Science for a Changing World\" class=\"logo\" height=\"60\" src=\"images/usgs_logo_main_2x.png\"/>\n",
      "   </a>\n",
      "   <a href=\"#\" style=\"float:right;margin-top:5px;margin-right:20px;\" target=\"_blank\">\n",
      "    <img alt=\"NASA\" class=\"logo\" height=\"65\" src=\"images/nasa-logo-web-med.png\"/>\n",
      "   </a>\n",
      "  </header>\n",
      "  <div class=\"wrapper\">\n",
      "   <div class=\"container\">\n",
      "    <div class=\"widget block bar\">\n",
      "     <a href=\"https://astrogeology.usgs.gov/search\" style=\"float:right;text-decoration:none;\">\n",
      "      <img alt=\"Astropedia\" src=\"images/astropedia-logo-main.png\" style=\"width:200px;border:none;float:right;\"/>\n",
      "      <div style=\"clear:both;font-size:.8em;float:right;color:#888;\">\n",
      "       Lunar and Planetary Cartographic Catalog\n",
      "      </div>\n",
      "     </a>\n",
      "     <div style=\"float:left;height:60px;\">\n",
      "     </div>\n",
      "    </div>\n",
      "    <div class=\"full-content\">\n",
      "     <section class=\"block\" id=\"results-accordian\">\n",
      "      <div class=\"result-list\" data-section=\"product\" id=\"product-section\">\n",
      "       <div class=\"accordian\">\n",
      "        <h2>\n",
      "         Products\n",
      "        </h2>\n",
      "        <span class=\"count\">\n",
      "         4 Results\n",
      "        </span>\n",
      "        <span class=\"collapse\">\n",
      "         Collapse\n",
      "        </span>\n",
      "       </div>\n",
      "       <div class=\"collapsible results\">\n",
      "        <div class=\"item\">\n",
      "         <a class=\"itemLink product-item\" href=\"cerberus.html\">\n",
      "          <img alt=\"Cerberus Hemisphere Enhanced thumbnail\" class=\"thumb\" src=\"images/39d3266553462198bd2fbc4d18fbed17_cerberus_enhanced.tif_thumb.png\"/>\n",
      "         </a>\n",
      "         <div class=\"description\">\n",
      "          <a class=\"itemLink product-item\" href=\"cerberus.html\">\n",
      "           <h3>\n",
      "            Cerberus Hemisphere Enhanced\n",
      "           </h3>\n",
      "          </a>\n",
      "          <span class=\"subtitle\" style=\"float:left\">\n",
      "           image/tiff 21 MB\n",
      "          </span>\n",
      "          <span class=\"pubDate\" style=\"float:right\">\n",
      "          </span>\n",
      "          <br/>\n",
      "          <p>\n",
      "           Mosaic of the Cerberus hemisphere of Mars projected into point perspective, a view similar to that which one would see from a spacecraft. This mosaic is composed of 104 Viking Orbiter images acquiredâ¦\n",
      "          </p>\n",
      "         </div>\n",
      "         <!-- end description -->\n",
      "        </div>\n",
      "        <div class=\"item\">\n",
      "         <a class=\"itemLink product-item\" href=\"schiaparelli.html\">\n",
      "          <img alt=\"Schiaparelli Hemisphere Enhanced thumbnail\" class=\"thumb\" src=\"images/08eac6e22c07fb1fe72223a79252de20_schiaparelli_enhanced.tif_thumb.png\"/>\n",
      "         </a>\n",
      "         <div class=\"description\">\n",
      "          <a class=\"itemLink product-item\" href=\"schiaparelli.html\">\n",
      "           <h3>\n",
      "            Schiaparelli Hemisphere Enhanced\n",
      "           </h3>\n",
      "          </a>\n",
      "          <span class=\"subtitle\" style=\"float:left\">\n",
      "           image/tiff 35 MB\n",
      "          </span>\n",
      "          <span class=\"pubDate\" style=\"float:right\">\n",
      "          </span>\n",
      "          <br/>\n",
      "          <p>\n",
      "           Mosaic of the Schiaparelli hemisphere of Mars projected into point perspective, a view similar to that which one would see from a spacecraft. The images were acquired in 1980 during early northernâ¦\n",
      "          </p>\n",
      "         </div>\n",
      "         <!-- end description -->\n",
      "        </div>\n",
      "        <div class=\"item\">\n",
      "         <a class=\"itemLink product-item\" href=\"syrtis.html\">\n",
      "          <img alt=\"Syrtis Major Hemisphere Enhanced thumbnail\" class=\"thumb\" src=\"images/55a0a1e2796313fdeafb17c35925e8ac_syrtis_major_enhanced.tif_thumb.png\"/>\n",
      "         </a>\n",
      "         <div class=\"description\">\n",
      "          <a class=\"itemLink product-item\" href=\"syrtis.html\">\n",
      "           <h3>\n",
      "            Syrtis Major Hemisphere Enhanced\n",
      "           </h3>\n",
      "          </a>\n",
      "          <span class=\"subtitle\" style=\"float:left\">\n",
      "           image/tiff 25 MB\n",
      "          </span>\n",
      "          <span class=\"pubDate\" style=\"float:right\">\n",
      "          </span>\n",
      "          <br/>\n",
      "          <p>\n",
      "           Mosaic of the Syrtis Major hemisphere of Mars projected into point perspective, a view similar to that which one would see from a spacecraft. This mosaic is composed of about 100 red and violetâ¦\n",
      "          </p>\n",
      "         </div>\n",
      "         <!-- end description -->\n",
      "        </div>\n",
      "        <div class=\"item\">\n",
      "         <a class=\"itemLink product-item\" href=\"valles.html\">\n",
      "          <img alt=\"Valles Marineris Hemisphere Enhanced thumbnail\" class=\"thumb\" src=\"images/4e59980c1c57f89c680c0e1ccabbeff1_valles_marineris_enhanced.tif_thumb.png\"/>\n",
      "         </a>\n",
      "         <div class=\"description\">\n",
      "          <a class=\"itemLink product-item\" href=\"valles.html\">\n",
      "           <h3>\n",
      "            Valles Marineris Hemisphere Enhanced\n",
      "           </h3>\n",
      "          </a>\n",
      "          <span class=\"subtitle\" style=\"float:left\">\n",
      "           image/tiff 27 MB\n",
      "          </span>\n",
      "          <span class=\"pubDate\" style=\"float:right\">\n",
      "          </span>\n",
      "          <br/>\n",
      "          <p>\n",
      "           Mosaic of the Valles Marineris hemisphere of Mars projected into point perspective, a view similar to that which one would see from a spacecraft. The distance is 2500 kilometers from the surface ofâ¦\n",
      "          </p>\n",
      "         </div>\n",
      "         <!-- end description -->\n",
      "        </div>\n",
      "       </div>\n",
      "       <!-- end this-section -->\n",
      "      </div>\n",
      "     </section>\n",
      "    </div>\n",
      "    <div class=\"navigation clear\" style=\"display: none;\">\n",
      "     <a class=\"itemLink product-item\" href=\"#\" onclick=\"showMain()\">\n",
      "      <h3>\n",
      "       Back\n",
      "      </h3>\n",
      "     </a>\n",
      "    </div>\n",
      "   </div>\n",
      "   <footer>\n",
      "    <div class=\"left\">\n",
      "     <a href=\"#\">\n",
      "      Search\n",
      "     </a>\n",
      "     |\n",
      "     <a href=\"#\">\n",
      "      About\n",
      "     </a>\n",
      "     |\n",
      "     <a href=\"#\">\n",
      "      Contact\n",
      "     </a>\n",
      "    </div>\n",
      "    <div class=\"right\">\n",
      "     <a href=\"#\">\n",
      "      GUSS Science Center\n",
      "     </a>\n",
      "    </div>\n",
      "   </footer>\n",
      "  </div>\n",
      "  <div class=\"page-background\" style=\"\n",
      "         background:url('./images/mars.jpg');\n",
      "         filter:progid:DXImageTransform.Microsoft.AlphaImageLoader(\n",
      "         src='./images/mars.jpg', sizingMethod='scale');\n",
      "         \">\n",
      "  </div>\n",
      "  <script type=\"text/javascript\">\n",
      "   var baseUrl = \"\";\n",
      "  </script>\n",
      "  <script src=\"js/jquery.min.js\" type=\"text/javascript\">\n",
      "  </script>\n",
      "  <script src=\"js/jquery-ui.min.js\" type=\"text/javascript\">\n",
      "  </script>\n",
      "  <script src=\"js/general.js\" type=\"text/javascript\">\n",
      "  </script>\n",
      " </body>\n",
      "</html>\n"
     ]
    }
   ],
   "source": [
    "print(soup.prettify())"
   ]
  },
  {
   "cell_type": "code",
   "execution_count": 8,
   "metadata": {},
   "outputs": [
    {
     "data": {
      "text/plain": [
       "[<div class=\"item\">\n",
       " <a class=\"itemLink product-item\" href=\"cerberus.html\"><img alt=\"Cerberus Hemisphere Enhanced thumbnail\" class=\"thumb\" src=\"images/39d3266553462198bd2fbc4d18fbed17_cerberus_enhanced.tif_thumb.png\"/></a>\n",
       " <div class=\"description\">\n",
       " <a class=\"itemLink product-item\" href=\"cerberus.html\">\n",
       " <h3>Cerberus Hemisphere Enhanced</h3>\n",
       " </a>\n",
       " <span class=\"subtitle\" style=\"float:left\">image/tiff 21 MB</span><span class=\"pubDate\" style=\"float:right\"></span><br/>\n",
       " <p>Mosaic of the Cerberus hemisphere of Mars projected into point perspective, a view similar to that which one would see from a spacecraft. This mosaic is composed of 104 Viking Orbiter images acquiredâ¦</p>\n",
       " </div>\n",
       " <!-- end description -->\n",
       " </div>,\n",
       " <div class=\"item\">\n",
       " <a class=\"itemLink product-item\" href=\"schiaparelli.html\"><img alt=\"Schiaparelli Hemisphere Enhanced thumbnail\" class=\"thumb\" src=\"images/08eac6e22c07fb1fe72223a79252de20_schiaparelli_enhanced.tif_thumb.png\"/></a>\n",
       " <div class=\"description\">\n",
       " <a class=\"itemLink product-item\" href=\"schiaparelli.html\">\n",
       " <h3>Schiaparelli Hemisphere Enhanced</h3>\n",
       " </a>\n",
       " <span class=\"subtitle\" style=\"float:left\">image/tiff 35 MB</span><span class=\"pubDate\" style=\"float:right\"></span><br/>\n",
       " <p>Mosaic of the Schiaparelli hemisphere of Mars projected into point perspective, a view similar to that which one would see from a spacecraft. The images were acquired in 1980 during early northernâ¦</p>\n",
       " </div>\n",
       " <!-- end description -->\n",
       " </div>,\n",
       " <div class=\"item\">\n",
       " <a class=\"itemLink product-item\" href=\"syrtis.html\"><img alt=\"Syrtis Major Hemisphere Enhanced thumbnail\" class=\"thumb\" src=\"images/55a0a1e2796313fdeafb17c35925e8ac_syrtis_major_enhanced.tif_thumb.png\"/></a>\n",
       " <div class=\"description\">\n",
       " <a class=\"itemLink product-item\" href=\"syrtis.html\">\n",
       " <h3>Syrtis Major Hemisphere Enhanced</h3>\n",
       " </a>\n",
       " <span class=\"subtitle\" style=\"float:left\">image/tiff 25 MB</span><span class=\"pubDate\" style=\"float:right\"></span><br/>\n",
       " <p>Mosaic of the Syrtis Major hemisphere of Mars projected into point perspective, a view similar to that which one would see from a spacecraft. This mosaic is composed of about 100 red and violetâ¦</p>\n",
       " </div>\n",
       " <!-- end description -->\n",
       " </div>,\n",
       " <div class=\"item\">\n",
       " <a class=\"itemLink product-item\" href=\"valles.html\"><img alt=\"Valles Marineris Hemisphere Enhanced thumbnail\" class=\"thumb\" src=\"images/4e59980c1c57f89c680c0e1ccabbeff1_valles_marineris_enhanced.tif_thumb.png\"/></a>\n",
       " <div class=\"description\">\n",
       " <a class=\"itemLink product-item\" href=\"valles.html\">\n",
       " <h3>Valles Marineris Hemisphere Enhanced</h3>\n",
       " </a>\n",
       " <span class=\"subtitle\" style=\"float:left\">image/tiff 27 MB</span><span class=\"pubDate\" style=\"float:right\"></span><br/>\n",
       " <p>Mosaic of the Valles Marineris hemisphere of Mars projected into point perspective, a view similar to that which one would see from a spacecraft. The distance is 2500 kilometers from the surface ofâ¦</p>\n",
       " </div>\n",
       " <!-- end description -->\n",
       " </div>]"
      ]
     },
     "execution_count": 8,
     "metadata": {},
     "output_type": "execute_result"
    }
   ],
   "source": [
    "mars_hemispheres = soup.find(\"div\", class_=\"collapsible results\")\n",
    "hemisphere = mars_hemispheres.find_all(\"div\", class_=\"item\")\n",
    "hemisphere"
   ]
  },
  {
   "cell_type": "code",
   "execution_count": 9,
   "metadata": {},
   "outputs": [],
   "source": [
    "#loop through mars hemisphere data\n",
    "for i in hemisphere:\n",
    "    \n",
    "    #scrape title for each hemisphere \n",
    "    mars = i.find(\"div\", class_=\"description\")\n",
    "    title = mars.h3.text\n",
    "    \n",
    "    #scrape link for each hemisphere\n",
    "    link = mars.find(\"a\") [\"href\"]\n",
    "    browser.visit(url + link)\n",
    "    \n",
    "    html = browser.html\n",
    "    soup = bs(html, 'html.parser')\n",
    "    \n",
    "    img_link = soup.find(\"div\", class_=\"downloads\")\n",
    "    hemisphere_img = img_link.find(\"li\").a[\"href\"]\n",
    "    \n",
    " \n",
    "    image_dictionary = {}\n",
    "    \n",
    "    image_dictionary[\"title\"] = title\n",
    "    image_dictionary[\"image_url\"] = hemisphere_img\n",
    "  \n",
    "    \n",
    "    hemisphere_image_urls.append(image_dictionary)\n"
   ]
  },
  {
   "cell_type": "code",
   "execution_count": 10,
   "metadata": {},
   "outputs": [
    {
     "data": {
      "text/plain": [
       "[{'title': 'Cerberus Hemisphere Enhanced', 'image_url': 'images/full.jpg'},\n",
       " {'title': 'Schiaparelli Hemisphere Enhanced',\n",
       "  'image_url': 'images/schiaparelli_enhanced-full.jpg'},\n",
       " {'title': 'Syrtis Major Hemisphere Enhanced',\n",
       "  'image_url': 'images/syrtis_major_enhanced-full.jpg'},\n",
       " {'title': 'Valles Marineris Hemisphere Enhanced',\n",
       "  'image_url': 'images/valles_marineris_enhanced-full.jpg'}]"
      ]
     },
     "execution_count": 10,
     "metadata": {},
     "output_type": "execute_result"
    }
   ],
   "source": [
    "hemisphere_image_urls"
   ]
  },
  {
   "cell_type": "code",
   "execution_count": null,
   "metadata": {},
   "outputs": [],
   "source": []
  },
  {
   "cell_type": "code",
   "execution_count": null,
   "metadata": {},
   "outputs": [],
   "source": []
  }
 ],
 "metadata": {
  "kernelspec": {
   "display_name": "Python 3",
   "language": "python",
   "name": "python3"
  },
  "language_info": {
   "codemirror_mode": {
    "name": "ipython",
    "version": 3
   },
   "file_extension": ".py",
   "mimetype": "text/x-python",
   "name": "python",
   "nbconvert_exporter": "python",
   "pygments_lexer": "ipython3",
   "version": "3.8.5"
  }
 },
 "nbformat": 4,
 "nbformat_minor": 4
}
